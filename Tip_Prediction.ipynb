{
 "cells": [
  {
   "cell_type": "markdown",
   "metadata": {},
   "source": [
    "Since predicting solely whether customers will tip or not may discourage drivers from picking up customers who are predicted not to tip, I will build a model that predicts **generous customers (those whose tips are ≥ 20%).**\n",
    "\n",
    "**Features** needed to make this prediction:\n",
    "\n",
    "    -The dataset already includes the tip amount and the cost of the ride; I will use these to engineer a new column ('generous' column) and make this the target variable.\n",
    "\n",
    "    -Time, date, pickup and dropoff locations, estimated fare, and payment method."
   ]
  },
  {
   "cell_type": "code",
   "execution_count": null,
   "metadata": {},
   "outputs": [],
   "source": [
    "##### Preparing Data"
   ]
  },
  {
   "cell_type": "code",
   "execution_count": 1,
   "metadata": {
    "id": "fKhnX2Puf4Bt"
   },
   "outputs": [],
   "source": [
    "import pandas as pd\n",
    "pd.set_option('display.max_columns', None)"
   ]
  },
  {
   "cell_type": "code",
   "execution_count": 3,
   "metadata": {
    "id": "5weTXGKqa_iG"
   },
   "outputs": [],
   "source": [
    "# Load dataset into dataframe\n",
    "df0 = pd.read_csv('2017_Yellow_Taxi_Trip_Data.csv')\n",
    "\n",
    "# Import predicted fares and mean distance and duration from previous course\n",
    "nyc_preds_means = pd.read_csv('nyc_preds_means.csv')"
   ]
  },
  {
   "cell_type": "code",
   "execution_count": 4,
   "metadata": {},
   "outputs": [
    {
     "name": "stdout",
     "output_type": "stream",
     "text": [
      "   Unnamed: 0  VendorID    tpep_pickup_datetime   tpep_dropoff_datetime  \\\n",
      "0    24870114         2   03/25/2017 8:55:43 AM   03/25/2017 9:09:47 AM   \n",
      "1    35634249         1   04/11/2017 2:53:28 PM   04/11/2017 3:19:58 PM   \n",
      "2   106203690         1   12/15/2017 7:26:56 AM   12/15/2017 7:34:08 AM   \n",
      "3    38942136         2   05/07/2017 1:17:59 PM   05/07/2017 1:48:14 PM   \n",
      "4    30841670         2  04/15/2017 11:32:20 PM  04/15/2017 11:49:03 PM   \n",
      "\n",
      "   passenger_count  trip_distance  RatecodeID store_and_fwd_flag  \\\n",
      "0                6           3.34           1                  N   \n",
      "1                1           1.80           1                  N   \n",
      "2                1           1.00           1                  N   \n",
      "3                1           3.70           1                  N   \n",
      "4                1           4.37           1                  N   \n",
      "\n",
      "   PULocationID  DOLocationID  payment_type  fare_amount  extra  mta_tax  \\\n",
      "0           100           231             1         13.0    0.0      0.5   \n",
      "1           186            43             1         16.0    0.0      0.5   \n",
      "2           262           236             1          6.5    0.0      0.5   \n",
      "3           188            97             1         20.5    0.0      0.5   \n",
      "4             4           112             2         16.5    0.5      0.5   \n",
      "\n",
      "   tip_amount  tolls_amount  improvement_surcharge  total_amount  \n",
      "0        2.76           0.0                    0.3         16.56  \n",
      "1        4.00           0.0                    0.3         20.80  \n",
      "2        1.45           0.0                    0.3          8.75  \n",
      "3        6.39           0.0                    0.3         27.69  \n",
      "4        0.00           0.0                    0.3         17.80  \n"
     ]
    }
   ],
   "source": [
    "print(df0.head())"
   ]
  },
  {
   "cell_type": "code",
   "execution_count": 5,
   "metadata": {},
   "outputs": [
    {
     "name": "stdout",
     "output_type": "stream",
     "text": [
      "   mean_duration  mean_distance  predicted_fare\n",
      "0      22.847222       3.521667       16.434245\n",
      "1      24.470370       3.108889       16.052218\n",
      "2       7.250000       0.881429        7.053706\n",
      "3      30.250000       3.700000       18.731650\n",
      "4      14.616667       4.435000       15.845642\n"
     ]
    }
   ],
   "source": [
    "print(nyc_preds_means.head())"
   ]
  },
  {
   "cell_type": "code",
   "execution_count": 6,
   "metadata": {},
   "outputs": [
    {
     "name": "stdout",
     "output_type": "stream",
     "text": [
      "       mean_duration  mean_distance  predicted_fare  Unnamed: 0  VendorID  \\\n",
      "0          22.847222       3.521667       16.434245    24870114         2   \n",
      "1          24.470370       3.108889       16.052218    35634249         1   \n",
      "2           7.250000       0.881429        7.053706   106203690         1   \n",
      "3          30.250000       3.700000       18.731650    38942136         2   \n",
      "4          14.616667       4.435000       15.845642    30841670         2   \n",
      "...              ...            ...             ...         ...       ...   \n",
      "22694       8.594643       1.098214        7.799138    14873857         2   \n",
      "22695      59.560417      18.757500       52.000000    66632549         2   \n",
      "22696       6.609091       0.684242        6.130896    74239933         2   \n",
      "22697      16.650000       2.077500       11.707049    60217333         2   \n",
      "22698       9.405556       1.476970        8.600969    17208911         1   \n",
      "\n",
      "         tpep_pickup_datetime   tpep_dropoff_datetime  passenger_count  \\\n",
      "0       03/25/2017 8:55:43 AM   03/25/2017 9:09:47 AM                6   \n",
      "1       04/11/2017 2:53:28 PM   04/11/2017 3:19:58 PM                1   \n",
      "2       12/15/2017 7:26:56 AM   12/15/2017 7:34:08 AM                1   \n",
      "3       05/07/2017 1:17:59 PM   05/07/2017 1:48:14 PM                1   \n",
      "4      04/15/2017 11:32:20 PM  04/15/2017 11:49:03 PM                1   \n",
      "...                       ...                     ...              ...   \n",
      "22694   02/24/2017 5:37:23 PM   02/24/2017 5:40:39 PM                3   \n",
      "22695   08/06/2017 4:43:59 PM   08/06/2017 5:24:47 PM                1   \n",
      "22696   09/04/2017 2:54:14 PM   09/04/2017 2:58:22 PM                1   \n",
      "22697  07/15/2017 12:56:30 PM   07/15/2017 1:08:26 PM                1   \n",
      "22698   03/02/2017 1:02:49 PM   03/02/2017 1:16:09 PM                1   \n",
      "\n",
      "       trip_distance  RatecodeID store_and_fwd_flag  PULocationID  \\\n",
      "0               3.34           1                  N           100   \n",
      "1               1.80           1                  N           186   \n",
      "2               1.00           1                  N           262   \n",
      "3               3.70           1                  N           188   \n",
      "4               4.37           1                  N             4   \n",
      "...              ...         ...                ...           ...   \n",
      "22694           0.61           1                  N            48   \n",
      "22695          16.71           2                  N           132   \n",
      "22696           0.42           1                  N           107   \n",
      "22697           2.36           1                  N            68   \n",
      "22698           2.10           1                  N           239   \n",
      "\n",
      "       DOLocationID  payment_type  fare_amount  extra  mta_tax  tip_amount  \\\n",
      "0               231             1         13.0    0.0      0.5        2.76   \n",
      "1                43             1         16.0    0.0      0.5        4.00   \n",
      "2               236             1          6.5    0.0      0.5        1.45   \n",
      "3                97             1         20.5    0.0      0.5        6.39   \n",
      "4               112             2         16.5    0.5      0.5        0.00   \n",
      "...             ...           ...          ...    ...      ...         ...   \n",
      "22694           186             2          4.0    1.0      0.5        0.00   \n",
      "22695           164             1         52.0    0.0      0.5       14.64   \n",
      "22696           234             2          4.5    0.0      0.5        0.00   \n",
      "22697           144             1         10.5    0.0      0.5        1.70   \n",
      "22698           236             1         11.0    0.0      0.5        2.35   \n",
      "\n",
      "       tolls_amount  improvement_surcharge  total_amount  \n",
      "0              0.00                    0.3         16.56  \n",
      "1              0.00                    0.3         20.80  \n",
      "2              0.00                    0.3          8.75  \n",
      "3              0.00                    0.3         27.69  \n",
      "4              0.00                    0.3         17.80  \n",
      "...             ...                    ...           ...  \n",
      "22694          0.00                    0.3          5.80  \n",
      "22695          5.76                    0.3         73.20  \n",
      "22696          0.00                    0.3          5.30  \n",
      "22697          0.00                    0.3         13.00  \n",
      "22698          0.00                    0.3         14.15  \n",
      "\n",
      "[22699 rows x 21 columns]\n"
     ]
    }
   ],
   "source": [
    "df = pd.merge(nyc_preds_means, df0, left_index=True, right_index=True)\n",
    "print(df)"
   ]
  },
  {
   "cell_type": "code",
   "execution_count": 7,
   "metadata": {
    "id": "mBOSW8IDbO_d"
   },
   "outputs": [
    {
     "name": "stdout",
     "output_type": "stream",
     "text": [
      "<class 'pandas.core.frame.DataFrame'>\n",
      "RangeIndex: 22699 entries, 0 to 22698\n",
      "Data columns (total 21 columns):\n",
      " #   Column                 Non-Null Count  Dtype  \n",
      "---  ------                 --------------  -----  \n",
      " 0   mean_duration          22699 non-null  float64\n",
      " 1   mean_distance          22699 non-null  float64\n",
      " 2   predicted_fare         22699 non-null  float64\n",
      " 3   Unnamed: 0             22699 non-null  int64  \n",
      " 4   VendorID               22699 non-null  int64  \n",
      " 5   tpep_pickup_datetime   22699 non-null  object \n",
      " 6   tpep_dropoff_datetime  22699 non-null  object \n",
      " 7   passenger_count        22699 non-null  int64  \n",
      " 8   trip_distance          22699 non-null  float64\n",
      " 9   RatecodeID             22699 non-null  int64  \n",
      " 10  store_and_fwd_flag     22699 non-null  object \n",
      " 11  PULocationID           22699 non-null  int64  \n",
      " 12  DOLocationID           22699 non-null  int64  \n",
      " 13  payment_type           22699 non-null  int64  \n",
      " 14  fare_amount            22699 non-null  float64\n",
      " 15  extra                  22699 non-null  float64\n",
      " 16  mta_tax                22699 non-null  float64\n",
      " 17  tip_amount             22699 non-null  float64\n",
      " 18  tolls_amount           22699 non-null  float64\n",
      " 19  improvement_surcharge  22699 non-null  float64\n",
      " 20  total_amount           22699 non-null  float64\n",
      "dtypes: float64(11), int64(7), object(3)\n",
      "memory usage: 3.6+ MB\n",
      "None\n"
     ]
    }
   ],
   "source": [
    "print(df.info())"
   ]
  },
  {
   "cell_type": "markdown",
   "metadata": {
    "id": "0D2RvXk0kwsx"
   },
   "source": [
    "By doing EDA, I notice that customers who pay **cash** generally have a tip amount of $0. To meet the modeling objective, I will sample the data to select only the customers who pay with credit card. "
   ]
  },
  {
   "cell_type": "code",
   "execution_count": 8,
   "metadata": {
    "id": "_pmNd78plQYr"
   },
   "outputs": [
    {
     "name": "stdout",
     "output_type": "stream",
     "text": [
      "       Unnamed: 0  VendorID    tpep_pickup_datetime   tpep_dropoff_datetime  \\\n",
      "0        24870114         2   03/25/2017 8:55:43 AM   03/25/2017 9:09:47 AM   \n",
      "1        35634249         1   04/11/2017 2:53:28 PM   04/11/2017 3:19:58 PM   \n",
      "2       106203690         1   12/15/2017 7:26:56 AM   12/15/2017 7:34:08 AM   \n",
      "3        38942136         2   05/07/2017 1:17:59 PM   05/07/2017 1:48:14 PM   \n",
      "4        23345809         2   03/25/2017 8:34:11 PM   03/25/2017 8:42:11 PM   \n",
      "...           ...       ...                     ...                     ...   \n",
      "15260    60425673         1   07/16/2017 3:22:51 AM   07/16/2017 3:40:52 AM   \n",
      "15261    67858616         2  08/10/2017 10:20:04 PM  08/10/2017 10:29:31 PM   \n",
      "15262    66632549         2   08/06/2017 4:43:59 PM   08/06/2017 5:24:47 PM   \n",
      "15263    60217333         2  07/15/2017 12:56:30 PM   07/15/2017 1:08:26 PM   \n",
      "15264    17208911         1   03/02/2017 1:02:49 PM   03/02/2017 1:16:09 PM   \n",
      "\n",
      "       passenger_count  trip_distance  RatecodeID store_and_fwd_flag  \\\n",
      "0                    6           3.34           1                  N   \n",
      "1                    1           1.80           1                  N   \n",
      "2                    1           1.00           1                  N   \n",
      "3                    1           3.70           1                  N   \n",
      "4                    6           2.30           1                  N   \n",
      "...                ...            ...         ...                ...   \n",
      "15260                1           5.70           1                  N   \n",
      "15261                1           0.89           1                  N   \n",
      "15262                1          16.71           2                  N   \n",
      "15263                1           2.36           1                  N   \n",
      "15264                1           2.10           1                  N   \n",
      "\n",
      "       PULocationID  DOLocationID  payment_type  fare_amount  extra  mta_tax  \\\n",
      "0               100           231             1         13.0    0.0      0.5   \n",
      "1               186            43             1         16.0    0.0      0.5   \n",
      "2               262           236             1          6.5    0.0      0.5   \n",
      "3               188            97             1         20.5    0.0      0.5   \n",
      "4               161           236             1          9.0    0.5      0.5   \n",
      "...             ...           ...           ...          ...    ...      ...   \n",
      "15260           249            17             1         19.0    0.5      0.5   \n",
      "15261           229           170             1          7.5    0.5      0.5   \n",
      "15262           132           164             1         52.0    0.0      0.5   \n",
      "15263            68           144             1         10.5    0.0      0.5   \n",
      "15264           239           236             1         11.0    0.0      0.5   \n",
      "\n",
      "       tip_amount  tolls_amount  improvement_surcharge  total_amount  \n",
      "0            2.76          0.00                    0.3         16.56  \n",
      "1            4.00          0.00                    0.3         20.80  \n",
      "2            1.45          0.00                    0.3          8.75  \n",
      "3            6.39          0.00                    0.3         27.69  \n",
      "4            2.06          0.00                    0.3         12.36  \n",
      "...           ...           ...                    ...           ...  \n",
      "15260        4.05          0.00                    0.3         24.35  \n",
      "15261        1.76          0.00                    0.3         10.56  \n",
      "15262       14.64          5.76                    0.3         73.20  \n",
      "15263        1.70          0.00                    0.3         13.00  \n",
      "15264        2.35          0.00                    0.3         14.15  \n",
      "\n",
      "[15265 rows x 18 columns]\n"
     ]
    }
   ],
   "source": [
    "df1 = df0.copy()\n",
    "mask = df1['payment_type'] == 1\n",
    "df1 = df1[mask].reset_index(drop = True)\n",
    "print(df1)"
   ]
  },
  {
   "cell_type": "code",
   "execution_count": 10,
   "metadata": {
    "id": "guanzJd8zBla"
   },
   "outputs": [
    {
     "name": "stdout",
     "output_type": "stream",
     "text": [
      "   Unnamed: 0  VendorID   tpep_pickup_datetime  tpep_dropoff_datetime  \\\n",
      "0    24870114         2  03/25/2017 8:55:43 AM  03/25/2017 9:09:47 AM   \n",
      "1    35634249         1  04/11/2017 2:53:28 PM  04/11/2017 3:19:58 PM   \n",
      "2   106203690         1  12/15/2017 7:26:56 AM  12/15/2017 7:34:08 AM   \n",
      "3    38942136         2  05/07/2017 1:17:59 PM  05/07/2017 1:48:14 PM   \n",
      "4    23345809         2  03/25/2017 8:34:11 PM  03/25/2017 8:42:11 PM   \n",
      "\n",
      "   passenger_count  trip_distance  RatecodeID store_and_fwd_flag  \\\n",
      "0                6           3.34           1                  N   \n",
      "1                1           1.80           1                  N   \n",
      "2                1           1.00           1                  N   \n",
      "3                1           3.70           1                  N   \n",
      "4                6           2.30           1                  N   \n",
      "\n",
      "   PULocationID  DOLocationID  payment_type  fare_amount  extra  mta_tax  \\\n",
      "0           100           231             1         13.0    0.0      0.5   \n",
      "1           186            43             1         16.0    0.0      0.5   \n",
      "2           262           236             1          6.5    0.0      0.5   \n",
      "3           188            97             1         20.5    0.0      0.5   \n",
      "4           161           236             1          9.0    0.5      0.5   \n",
      "\n",
      "   tip_amount  tolls_amount  improvement_surcharge  total_amount  tip%col  \n",
      "0        2.76           0.0                    0.3         16.56    0.200  \n",
      "1        4.00           0.0                    0.3         20.80    0.239  \n",
      "2        1.45           0.0                    0.3          8.75    0.199  \n",
      "3        6.39           0.0                    0.3         27.69    0.300  \n",
      "4        2.06           0.0                    0.3         12.36    0.201  \n"
     ]
    }
   ],
   "source": [
    "# Create tip % col\n",
    "import numpy as np\n",
    "df1['tip%col'] = df1['tip_amount'] / (df1['total_amount'] - df1['tip_amount'])\n",
    "df1['tip%col'] = np.ceil(df1['tip%col'] * 1000) / 1000\n",
    "print(df1.head())"
   ]
  },
  {
   "cell_type": "code",
   "execution_count": 11,
   "metadata": {
    "id": "nqDSe0DSGwhB"
   },
   "outputs": [
    {
     "name": "stdout",
     "output_type": "stream",
     "text": [
      "0        1\n",
      "1        1\n",
      "2        0\n",
      "3        1\n",
      "4        1\n",
      "        ..\n",
      "15260    1\n",
      "15261    1\n",
      "15262    1\n",
      "15263    0\n",
      "15264    1\n",
      "Name: generous, Length: 15265, dtype: int64\n"
     ]
    }
   ],
   "source": [
    "# Create 'generous' col (target)\n",
    "df1['generous'] = df1['tip%col'].copy()\n",
    "df1['generous'] = np.where(df1['generous'] >= 0.2, 1, 0)\n",
    "print(df1['generous'])"
   ]
  },
  {
   "cell_type": "code",
   "execution_count": 12,
   "metadata": {
    "id": "OIycxWBMkafJ"
   },
   "outputs": [
    {
     "name": "stdout",
     "output_type": "stream",
     "text": [
      "   Unnamed: 0  VendorID tpep_pickup_datetime tpep_dropoff_datetime  \\\n",
      "0    24870114         2  2017-03-25 08:55:43   2017-03-25 09:09:47   \n",
      "1    35634249         1  2017-04-11 14:53:28   2017-04-11 15:19:58   \n",
      "2   106203690         1  2017-12-15 07:26:56   2017-12-15 07:34:08   \n",
      "3    38942136         2  2017-05-07 13:17:59   2017-05-07 13:48:14   \n",
      "4    23345809         2  2017-03-25 20:34:11   2017-03-25 20:42:11   \n",
      "\n",
      "   passenger_count  trip_distance  RatecodeID store_and_fwd_flag  \\\n",
      "0                6           3.34           1                  N   \n",
      "1                1           1.80           1                  N   \n",
      "2                1           1.00           1                  N   \n",
      "3                1           3.70           1                  N   \n",
      "4                6           2.30           1                  N   \n",
      "\n",
      "   PULocationID  DOLocationID  payment_type  fare_amount  extra  mta_tax  \\\n",
      "0           100           231             1         13.0    0.0      0.5   \n",
      "1           186            43             1         16.0    0.0      0.5   \n",
      "2           262           236             1          6.5    0.0      0.5   \n",
      "3           188            97             1         20.5    0.0      0.5   \n",
      "4           161           236             1          9.0    0.5      0.5   \n",
      "\n",
      "   tip_amount  tolls_amount  improvement_surcharge  total_amount  tip%col  \\\n",
      "0        2.76           0.0                    0.3         16.56    0.200   \n",
      "1        4.00           0.0                    0.3         20.80    0.239   \n",
      "2        1.45           0.0                    0.3          8.75    0.199   \n",
      "3        6.39           0.0                    0.3         27.69    0.300   \n",
      "4        2.06           0.0                    0.3         12.36    0.201   \n",
      "\n",
      "   generous  \n",
      "0         1  \n",
      "1         1  \n",
      "2         0  \n",
      "3         1  \n",
      "4         1  \n"
     ]
    }
   ],
   "source": [
    "# Convert pickup and dropoff cols to datetime\n",
    "df1['tpep_pickup_datetime'] = pd.to_datetime(df1['tpep_pickup_datetime'])\n",
    "df1['tpep_dropoff_datetime'] = pd.to_datetime(df1['tpep_dropoff_datetime'])\n",
    "print(df1.head())"
   ]
  },
  {
   "cell_type": "code",
   "execution_count": 13,
   "metadata": {
    "id": "abUvtMaYyWpD"
   },
   "outputs": [
    {
     "name": "stdout",
     "output_type": "stream",
     "text": [
      "   Unnamed: 0  VendorID tpep_pickup_datetime tpep_dropoff_datetime  \\\n",
      "0    24870114         2  2017-03-25 08:55:43   2017-03-25 09:09:47   \n",
      "1    35634249         1  2017-04-11 14:53:28   2017-04-11 15:19:58   \n",
      "2   106203690         1  2017-12-15 07:26:56   2017-12-15 07:34:08   \n",
      "3    38942136         2  2017-05-07 13:17:59   2017-05-07 13:48:14   \n",
      "4    23345809         2  2017-03-25 20:34:11   2017-03-25 20:42:11   \n",
      "\n",
      "   passenger_count  trip_distance  RatecodeID store_and_fwd_flag  \\\n",
      "0                6           3.34           1                  N   \n",
      "1                1           1.80           1                  N   \n",
      "2                1           1.00           1                  N   \n",
      "3                1           3.70           1                  N   \n",
      "4                6           2.30           1                  N   \n",
      "\n",
      "   PULocationID  DOLocationID  payment_type  fare_amount  extra  mta_tax  \\\n",
      "0           100           231             1         13.0    0.0      0.5   \n",
      "1           186            43             1         16.0    0.0      0.5   \n",
      "2           262           236             1          6.5    0.0      0.5   \n",
      "3           188            97             1         20.5    0.0      0.5   \n",
      "4           161           236             1          9.0    0.5      0.5   \n",
      "\n",
      "   tip_amount  tolls_amount  improvement_surcharge  total_amount  tip%col  \\\n",
      "0        2.76           0.0                    0.3         16.56    0.200   \n",
      "1        4.00           0.0                    0.3         20.80    0.239   \n",
      "2        1.45           0.0                    0.3          8.75    0.199   \n",
      "3        6.39           0.0                    0.3         27.69    0.300   \n",
      "4        2.06           0.0                    0.3         12.36    0.201   \n",
      "\n",
      "   generous       day  \n",
      "0         1  saturday  \n",
      "1         1   tuesday  \n",
      "2         0    friday  \n",
      "3         1    sunday  \n",
      "4         1  saturday  \n"
     ]
    }
   ],
   "source": [
    "# Create a 'day' col\n",
    "df1['day'] = df1['tpep_pickup_datetime'].dt.day_name().str.lower()\n",
    "print(df1.head())"
   ]
  },
  {
   "cell_type": "markdown",
   "metadata": {},
   "source": [
    "#### Create time of day columns"
   ]
  },
  {
   "cell_type": "code",
   "execution_count": 14,
   "metadata": {
    "id": "x8LFySUyprau"
   },
   "outputs": [],
   "source": [
    "# Create 'am_rush' col\n",
    "df1['am_rush']  = df1['tpep_pickup_datetime'].copy().dt.time\n",
    "# Create 'daytime' col\n",
    "df1['daytime']  = df1['tpep_pickup_datetime'].copy().dt.time\n",
    "# Create 'pm_rush' col\n",
    "df1['pm_rush']  = df1['tpep_pickup_datetime'].copy().dt.time\n",
    "# Create 'nighttime' col\n",
    "df1['nighttime']  = df1['tpep_pickup_datetime'].copy().dt.time"
   ]
  },
  {
   "cell_type": "code",
   "execution_count": 15,
   "metadata": {
    "id": "oAE4vRz0wGtN"
   },
   "outputs": [],
   "source": [
    "# Define 'am_rush()' conversion function [06:00–10:00)\n",
    "def am_rush(time):\n",
    "    return 1 if time.hour >=6 and time.hour <10 else 0"
   ]
  },
  {
   "cell_type": "code",
   "execution_count": 16,
   "metadata": {
    "id": "sWFojyk9xdDY"
   },
   "outputs": [
    {
     "name": "stdout",
     "output_type": "stream",
     "text": [
      "0        1\n",
      "1        0\n",
      "2        1\n",
      "3        0\n",
      "4        0\n",
      "        ..\n",
      "15260    0\n",
      "15261    0\n",
      "15262    0\n",
      "15263    0\n",
      "15264    0\n",
      "Name: am_rush, Length: 15265, dtype: int64\n"
     ]
    }
   ],
   "source": [
    "# Apply 'am_rush' function to the 'am_rush' series\n",
    "df1['am_rush'] = df1['am_rush'].apply(am_rush)\n",
    "print(df1['am_rush'])"
   ]
  },
  {
   "cell_type": "code",
   "execution_count": 17,
   "metadata": {
    "id": "UADnzaIjzwLG"
   },
   "outputs": [],
   "source": [
    "# Define 'daytime()' conversion function [10:00–16:00)\n",
    "def daytime(time):\n",
    "    return 1 if time.hour >=10 and time.hour <16 else 0"
   ]
  },
  {
   "cell_type": "code",
   "execution_count": 18,
   "metadata": {
    "id": "ReHpKxoC1Qsx"
   },
   "outputs": [
    {
     "name": "stdout",
     "output_type": "stream",
     "text": [
      "0        0\n",
      "1        1\n",
      "2        0\n",
      "3        1\n",
      "4        0\n",
      "        ..\n",
      "15260    0\n",
      "15261    0\n",
      "15262    0\n",
      "15263    1\n",
      "15264    1\n",
      "Name: daytime, Length: 15265, dtype: int64\n"
     ]
    }
   ],
   "source": [
    "# Apply 'daytime()' function to the 'daytime' series\n",
    "df1['daytime'] = df1['daytime'].apply(daytime)\n",
    "print(df1['daytime'])"
   ]
  },
  {
   "cell_type": "code",
   "execution_count": 19,
   "metadata": {
    "id": "rP-ZBOHT1WQY"
   },
   "outputs": [],
   "source": [
    "# Define 'pm_rush()' conversion function [16:00–20:00)\n",
    "def pm_rush(time):\n",
    "    return 1 if time.hour >=16 and time.hour <20 else 0"
   ]
  },
  {
   "cell_type": "code",
   "execution_count": 20,
   "metadata": {
    "id": "h0zWPBqr1mX4"
   },
   "outputs": [
    {
     "name": "stdout",
     "output_type": "stream",
     "text": [
      "0        0\n",
      "1        0\n",
      "2        0\n",
      "3        0\n",
      "4        0\n",
      "        ..\n",
      "15260    0\n",
      "15261    0\n",
      "15262    1\n",
      "15263    0\n",
      "15264    0\n",
      "Name: pm_rush, Length: 15265, dtype: int64\n"
     ]
    }
   ],
   "source": [
    "# Apply 'pm_rush()' function to the 'pm_rush' series\n",
    "df1['pm_rush'] = df1['pm_rush'].apply(pm_rush)\n",
    "print(df1['pm_rush'])"
   ]
  },
  {
   "cell_type": "code",
   "execution_count": 21,
   "metadata": {
    "id": "u5O0LPLz2CSa"
   },
   "outputs": [],
   "source": [
    "# Define 'nighttime()' conversion function [20:00–06:00)\n",
    "def nighttime(time):\n",
    "    return 1 if time.hour >=20 or time.hour <6 else 0"
   ]
  },
  {
   "cell_type": "code",
   "execution_count": 22,
   "metadata": {
    "id": "kLGmBXkT2RTi"
   },
   "outputs": [
    {
     "name": "stdout",
     "output_type": "stream",
     "text": [
      "0        0\n",
      "1        0\n",
      "2        0\n",
      "3        0\n",
      "4        1\n",
      "        ..\n",
      "15260    1\n",
      "15261    1\n",
      "15262    0\n",
      "15263    0\n",
      "15264    0\n",
      "Name: nighttime, Length: 15265, dtype: int64\n"
     ]
    }
   ],
   "source": [
    "# Apply 'nighttime' function to the 'nighttime' series\n",
    "df1['nighttime'] = df1['nighttime'].apply(nighttime)\n",
    "print(df1['nighttime'])"
   ]
  },
  {
   "cell_type": "markdown",
   "metadata": {},
   "source": [
    "#### Create `month` column"
   ]
  },
  {
   "cell_type": "code",
   "execution_count": 23,
   "metadata": {},
   "outputs": [
    {
     "name": "stdout",
     "output_type": "stream",
     "text": [
      "0        Mar\n",
      "1        Apr\n",
      "2        Dec\n",
      "3        May\n",
      "4        Mar\n",
      "        ... \n",
      "15260    Jul\n",
      "15261    Aug\n",
      "15262    Aug\n",
      "15263    Jul\n",
      "15264    Mar\n",
      "Name: month, Length: 15265, dtype: object\n"
     ]
    }
   ],
   "source": [
    "# Create 'month' col\n",
    "df1['month'] = df1['tpep_pickup_datetime'].dt.strftime('%b')\n",
    "print(df1['month'])"
   ]
  },
  {
   "cell_type": "code",
   "execution_count": 24,
   "metadata": {
    "id": "jWxemeyl4vwQ",
    "scrolled": true
   },
   "outputs": [
    {
     "name": "stdout",
     "output_type": "stream",
     "text": [
      "   Unnamed: 0  VendorID tpep_pickup_datetime tpep_dropoff_datetime  \\\n",
      "0    24870114         2  2017-03-25 08:55:43   2017-03-25 09:09:47   \n",
      "1    35634249         1  2017-04-11 14:53:28   2017-04-11 15:19:58   \n",
      "2   106203690         1  2017-12-15 07:26:56   2017-12-15 07:34:08   \n",
      "3    38942136         2  2017-05-07 13:17:59   2017-05-07 13:48:14   \n",
      "4    23345809         2  2017-03-25 20:34:11   2017-03-25 20:42:11   \n",
      "\n",
      "   passenger_count  trip_distance  RatecodeID store_and_fwd_flag  \\\n",
      "0                6           3.34           1                  N   \n",
      "1                1           1.80           1                  N   \n",
      "2                1           1.00           1                  N   \n",
      "3                1           3.70           1                  N   \n",
      "4                6           2.30           1                  N   \n",
      "\n",
      "   PULocationID  DOLocationID  payment_type  fare_amount  extra  mta_tax  \\\n",
      "0           100           231             1         13.0    0.0      0.5   \n",
      "1           186            43             1         16.0    0.0      0.5   \n",
      "2           262           236             1          6.5    0.0      0.5   \n",
      "3           188            97             1         20.5    0.0      0.5   \n",
      "4           161           236             1          9.0    0.5      0.5   \n",
      "\n",
      "   tip_amount  tolls_amount  improvement_surcharge  total_amount  tip%col  \\\n",
      "0        2.76           0.0                    0.3         16.56    0.200   \n",
      "1        4.00           0.0                    0.3         20.80    0.239   \n",
      "2        1.45           0.0                    0.3          8.75    0.199   \n",
      "3        6.39           0.0                    0.3         27.69    0.300   \n",
      "4        2.06           0.0                    0.3         12.36    0.201   \n",
      "\n",
      "   generous       day  am_rush  daytime  pm_rush  nighttime month  \n",
      "0         1  saturday        1        0        0          0   Mar  \n",
      "1         1   tuesday        0        1        0          0   Apr  \n",
      "2         0    friday        1        0        0          0   Dec  \n",
      "3         1    sunday        0        1        0          0   May  \n",
      "4         1  saturday        0        0        0          1   Mar  \n"
     ]
    }
   ],
   "source": [
    "print(df1.head())"
   ]
  },
  {
   "cell_type": "code",
   "execution_count": 25,
   "metadata": {},
   "outputs": [
    {
     "name": "stdout",
     "output_type": "stream",
     "text": [
      "['Unnamed: 0', 'VendorID', 'tpep_pickup_datetime', 'tpep_dropoff_datetime', 'passenger_count', 'trip_distance', 'RatecodeID', 'store_and_fwd_flag', 'PULocationID', 'DOLocationID', 'payment_type', 'fare_amount', 'extra', 'mta_tax', 'tip_amount', 'tolls_amount', 'improvement_surcharge', 'total_amount', 'tip%col', 'generous', 'day', 'am_rush', 'daytime', 'pm_rush', 'nighttime', 'month']\n",
      "   RatecodeID  PULocationID  DOLocationID  generous       day  am_rush  \\\n",
      "0           1           100           231         1  saturday        1   \n",
      "1           1           186            43         1   tuesday        0   \n",
      "2           1           262           236         0    friday        1   \n",
      "3           1           188            97         1    sunday        0   \n",
      "4           1           161           236         1  saturday        0   \n",
      "\n",
      "   daytime  pm_rush  nighttime month  \n",
      "0        0        0          0   Mar  \n",
      "1        1        0          0   Apr  \n",
      "2        0        0          0   Dec  \n",
      "3        1        0          0   May  \n",
      "4        0        0          1   Mar  \n"
     ]
    }
   ],
   "source": [
    "# Drop columns\n",
    "print(df1.columns.tolist())\n",
    "column_to_drop = ['Unnamed: 0', 'VendorID', 'tpep_pickup_datetime', 'tpep_dropoff_datetime', 'passenger_count', \n",
    "                  'trip_distance', 'store_and_fwd_flag','payment_type', 'fare_amount', \n",
    "                  'extra', 'mta_tax', 'tip_amount', 'tolls_amount', \n",
    "                  'improvement_surcharge', 'total_amount', 'tip%col']\n",
    "df1 = df1.drop(column_to_drop, axis = 'columns')\n",
    "print(df1.head())"
   ]
  },
  {
   "cell_type": "markdown",
   "metadata": {},
   "source": [
    "#### Variable encoding"
   ]
  },
  {
   "cell_type": "code",
   "execution_count": 26,
   "metadata": {
    "id": "FbB4AfATHqjC"
   },
   "outputs": [
    {
     "name": "stdout",
     "output_type": "stream",
     "text": [
      "<class 'pandas.core.frame.DataFrame'>\n",
      "RangeIndex: 15265 entries, 0 to 15264\n",
      "Data columns (total 10 columns):\n",
      " #   Column        Non-Null Count  Dtype \n",
      "---  ------        --------------  ----- \n",
      " 0   RatecodeID    15265 non-null  object\n",
      " 1   PULocationID  15265 non-null  object\n",
      " 2   DOLocationID  15265 non-null  object\n",
      " 3   generous      15265 non-null  int64 \n",
      " 4   day           15265 non-null  object\n",
      " 5   am_rush       15265 non-null  int64 \n",
      " 6   daytime       15265 non-null  int64 \n",
      " 7   pm_rush       15265 non-null  int64 \n",
      " 8   nighttime     15265 non-null  int64 \n",
      " 9   month         15265 non-null  object\n",
      "dtypes: int64(5), object(5)\n",
      "memory usage: 1.2+ MB\n",
      "None\n"
     ]
    }
   ],
   "source": [
    "# 1. Define list of cols to convert to string\n",
    "cols_to_str = ['RatecodeID','PULocationID', 'DOLocationID']\n",
    "# 2. Convert each column to string\n",
    "for i in cols_to_str:\n",
    "    df1[i] = df[i].astype(str)\n",
    "print(df1.info())"
   ]
  },
  {
   "cell_type": "code",
   "execution_count": 27,
   "metadata": {
    "id": "H94yLzUMHqgB"
   },
   "outputs": [
    {
     "name": "stdout",
     "output_type": "stream",
     "text": [
      "   generous  am_rush  daytime  pm_rush  nighttime  RatecodeID_1  RatecodeID_2  \\\n",
      "0         1        1        0        0          0          True         False   \n",
      "1         1        0        1        0          0          True         False   \n",
      "2         0        1        0        0          0          True         False   \n",
      "3         1        0        1        0          0          True         False   \n",
      "4         1        0        0        0          1          True         False   \n",
      "\n",
      "   RatecodeID_3  RatecodeID_4  RatecodeID_5  RatecodeID_99  PULocationID_1  \\\n",
      "0         False         False         False          False           False   \n",
      "1         False         False         False          False           False   \n",
      "2         False         False         False          False           False   \n",
      "3         False         False         False          False           False   \n",
      "4         False         False         False          False           False   \n",
      "\n",
      "   PULocationID_10  PULocationID_100  PULocationID_106  PULocationID_107  \\\n",
      "0            False              True             False             False   \n",
      "1            False             False             False             False   \n",
      "2            False             False             False             False   \n",
      "3            False             False             False             False   \n",
      "4            False             False             False             False   \n",
      "\n",
      "   PULocationID_112  PULocationID_113  PULocationID_114  PULocationID_116  \\\n",
      "0             False             False             False             False   \n",
      "1             False             False             False             False   \n",
      "2             False             False             False             False   \n",
      "3             False             False             False             False   \n",
      "4             False             False             False             False   \n",
      "\n",
      "   PULocationID_118  PULocationID_12  PULocationID_125  PULocationID_127  \\\n",
      "0             False            False             False             False   \n",
      "1             False            False             False             False   \n",
      "2             False            False             False             False   \n",
      "3             False            False             False             False   \n",
      "4             False            False             False             False   \n",
      "\n",
      "   PULocationID_128  PULocationID_129  PULocationID_13  PULocationID_130  \\\n",
      "0             False             False            False             False   \n",
      "1             False             False            False             False   \n",
      "2             False             False            False             False   \n",
      "3             False             False            False             False   \n",
      "4             False             False            False             False   \n",
      "\n",
      "   PULocationID_131  PULocationID_132  PULocationID_133  PULocationID_134  \\\n",
      "0             False             False             False             False   \n",
      "1             False             False             False             False   \n",
      "2             False             False             False             False   \n",
      "3             False             False             False             False   \n",
      "4             False             False             False             False   \n",
      "\n",
      "   PULocationID_137  PULocationID_138  PULocationID_14  PULocationID_140  \\\n",
      "0             False             False            False             False   \n",
      "1             False             False            False             False   \n",
      "2             False             False            False             False   \n",
      "3             False             False            False             False   \n",
      "4             False             False            False             False   \n",
      "\n",
      "   PULocationID_141  PULocationID_142  PULocationID_143  PULocationID_144  \\\n",
      "0             False             False             False             False   \n",
      "1             False             False             False             False   \n",
      "2             False             False             False             False   \n",
      "3             False             False             False             False   \n",
      "4             False             False             False             False   \n",
      "\n",
      "   PULocationID_145  PULocationID_146  PULocationID_148  PULocationID_151  \\\n",
      "0             False             False             False             False   \n",
      "1             False             False             False             False   \n",
      "2             False             False             False             False   \n",
      "3             False             False             False             False   \n",
      "4             False             False             False             False   \n",
      "\n",
      "   PULocationID_152  PULocationID_158  PULocationID_159  PULocationID_160  \\\n",
      "0             False             False             False             False   \n",
      "1             False             False             False             False   \n",
      "2             False             False             False             False   \n",
      "3             False             False             False             False   \n",
      "4             False             False             False             False   \n",
      "\n",
      "   PULocationID_161  PULocationID_162  PULocationID_163  PULocationID_164  \\\n",
      "0             False             False             False             False   \n",
      "1             False             False             False             False   \n",
      "2             False             False             False             False   \n",
      "3             False             False             False             False   \n",
      "4             False             False             False             False   \n",
      "\n",
      "   PULocationID_166  PULocationID_168  PULocationID_17  PULocationID_170  \\\n",
      "0             False             False            False             False   \n",
      "1             False             False            False             False   \n",
      "2             False             False            False             False   \n",
      "3             False             False            False             False   \n",
      "4             False             False            False             False   \n",
      "\n",
      "   PULocationID_173  PULocationID_175  PULocationID_179  PULocationID_181  \\\n",
      "0             False             False             False             False   \n",
      "1             False             False             False             False   \n",
      "2             False             False             False             False   \n",
      "3             False             False             False             False   \n",
      "4             False             False             False             False   \n",
      "\n",
      "   PULocationID_186  PULocationID_188  PULocationID_189  PULocationID_190  \\\n",
      "0             False             False             False             False   \n",
      "1              True             False             False             False   \n",
      "2             False             False             False             False   \n",
      "3             False              True             False             False   \n",
      "4             False             False             False             False   \n",
      "\n",
      "   PULocationID_193  PULocationID_195  PULocationID_196  PULocationID_197  \\\n",
      "0             False             False             False             False   \n",
      "1             False             False             False             False   \n",
      "2             False             False             False             False   \n",
      "3             False             False             False             False   \n",
      "4             False             False             False             False   \n",
      "\n",
      "   PULocationID_208  PULocationID_209  PULocationID_211  PULocationID_216  \\\n",
      "0             False             False             False             False   \n",
      "1             False             False             False             False   \n",
      "2             False             False             False             False   \n",
      "3             False             False             False             False   \n",
      "4             False             False             False             False   \n",
      "\n",
      "   PULocationID_223  PULocationID_224  PULocationID_225  PULocationID_226  \\\n",
      "0             False             False             False             False   \n",
      "1             False             False             False             False   \n",
      "2             False             False             False             False   \n",
      "3             False             False             False             False   \n",
      "4             False             False             False             False   \n",
      "\n",
      "   PULocationID_228  PULocationID_229  PULocationID_230  PULocationID_231  \\\n",
      "0             False             False             False             False   \n",
      "1             False             False             False             False   \n",
      "2             False             False             False             False   \n",
      "3             False             False             False             False   \n",
      "4             False             False             False             False   \n",
      "\n",
      "   PULocationID_232  PULocationID_233  PULocationID_234  PULocationID_235  \\\n",
      "0             False             False             False             False   \n",
      "1             False             False             False             False   \n",
      "2             False             False             False             False   \n",
      "3             False             False             False             False   \n",
      "4             False             False             False             False   \n",
      "\n",
      "   PULocationID_236  PULocationID_237  PULocationID_238  PULocationID_239  \\\n",
      "0             False             False             False             False   \n",
      "1             False             False             False             False   \n",
      "2             False             False             False             False   \n",
      "3             False             False             False             False   \n",
      "4             False             False             False             False   \n",
      "\n",
      "   PULocationID_24  PULocationID_242  PULocationID_243  PULocationID_244  \\\n",
      "0            False             False             False             False   \n",
      "1            False             False             False             False   \n",
      "2            False             False             False             False   \n",
      "3            False             False             False             False   \n",
      "4            False             False             False             False   \n",
      "\n",
      "   PULocationID_246  PULocationID_247  PULocationID_249  PULocationID_25  \\\n",
      "0             False             False             False            False   \n",
      "1             False             False             False            False   \n",
      "2             False             False             False            False   \n",
      "3             False             False             False            False   \n",
      "4             False             False             False            False   \n",
      "\n",
      "   PULocationID_255  PULocationID_256  PULocationID_260  PULocationID_261  \\\n",
      "0             False             False             False             False   \n",
      "1             False             False             False             False   \n",
      "2             False             False             False             False   \n",
      "3             False             False             False             False   \n",
      "4             False             False             False             False   \n",
      "\n",
      "   PULocationID_262  PULocationID_263  PULocationID_264  PULocationID_265  \\\n",
      "0             False             False             False             False   \n",
      "1             False             False             False             False   \n",
      "2              True             False             False             False   \n",
      "3             False             False             False             False   \n",
      "4             False             False             False             False   \n",
      "\n",
      "   PULocationID_28  PULocationID_29  PULocationID_31  PULocationID_33  \\\n",
      "0            False            False            False            False   \n",
      "1            False            False            False            False   \n",
      "2            False            False            False            False   \n",
      "3            False            False            False            False   \n",
      "4            False            False            False            False   \n",
      "\n",
      "   PULocationID_35  PULocationID_36  PULocationID_37  PULocationID_4  \\\n",
      "0            False            False            False           False   \n",
      "1            False            False            False           False   \n",
      "2            False            False            False           False   \n",
      "3            False            False            False           False   \n",
      "4            False            False            False            True   \n",
      "\n",
      "   PULocationID_40  PULocationID_41  PULocationID_42  PULocationID_43  \\\n",
      "0            False            False            False            False   \n",
      "1            False            False            False            False   \n",
      "2            False            False            False            False   \n",
      "3            False            False            False            False   \n",
      "4            False            False            False            False   \n",
      "\n",
      "   PULocationID_45  PULocationID_46  PULocationID_48  PULocationID_49  \\\n",
      "0            False            False            False            False   \n",
      "1            False            False            False            False   \n",
      "2            False            False            False            False   \n",
      "3            False            False            False            False   \n",
      "4            False            False            False            False   \n",
      "\n",
      "   PULocationID_50  PULocationID_52  PULocationID_54  PULocationID_56  \\\n",
      "0            False            False            False            False   \n",
      "1            False            False            False            False   \n",
      "2            False            False            False            False   \n",
      "3            False            False            False            False   \n",
      "4            False            False            False            False   \n",
      "\n",
      "   PULocationID_57  PULocationID_61  PULocationID_62  PULocationID_63  \\\n",
      "0            False            False            False            False   \n",
      "1            False            False            False            False   \n",
      "2            False            False            False            False   \n",
      "3            False            False            False            False   \n",
      "4            False            False            False            False   \n",
      "\n",
      "   PULocationID_65  PULocationID_66  PULocationID_68  PULocationID_69  \\\n",
      "0            False            False            False            False   \n",
      "1            False            False            False            False   \n",
      "2            False            False            False            False   \n",
      "3            False            False            False            False   \n",
      "4            False            False            False            False   \n",
      "\n",
      "   PULocationID_7  PULocationID_70  PULocationID_74  PULocationID_75  \\\n",
      "0           False            False            False            False   \n",
      "1           False            False            False            False   \n",
      "2           False            False            False            False   \n",
      "3           False            False            False            False   \n",
      "4           False            False            False            False   \n",
      "\n",
      "   PULocationID_78  PULocationID_79  PULocationID_80  PULocationID_82  \\\n",
      "0            False            False            False            False   \n",
      "1            False            False            False            False   \n",
      "2            False            False            False            False   \n",
      "3            False            False            False            False   \n",
      "4            False            False            False            False   \n",
      "\n",
      "   PULocationID_83  PULocationID_85  PULocationID_87  PULocationID_88  \\\n",
      "0            False            False            False            False   \n",
      "1            False            False            False            False   \n",
      "2            False            False            False            False   \n",
      "3            False            False            False            False   \n",
      "4            False            False            False            False   \n",
      "\n",
      "   PULocationID_90  PULocationID_91  PULocationID_92  PULocationID_93  \\\n",
      "0            False            False            False            False   \n",
      "1            False            False            False            False   \n",
      "2            False            False            False            False   \n",
      "3            False            False            False            False   \n",
      "4            False            False            False            False   \n",
      "\n",
      "   PULocationID_94  PULocationID_95  PULocationID_97  DOLocationID_1  \\\n",
      "0            False            False            False           False   \n",
      "1            False            False            False           False   \n",
      "2            False            False            False           False   \n",
      "3            False            False            False           False   \n",
      "4            False            False            False           False   \n",
      "\n",
      "   DOLocationID_10  DOLocationID_100  DOLocationID_102  DOLocationID_106  \\\n",
      "0            False             False             False             False   \n",
      "1            False             False             False             False   \n",
      "2            False             False             False             False   \n",
      "3            False             False             False             False   \n",
      "4            False             False             False             False   \n",
      "\n",
      "   DOLocationID_107  DOLocationID_11  DOLocationID_112  DOLocationID_113  \\\n",
      "0             False            False             False             False   \n",
      "1             False            False             False             False   \n",
      "2             False            False             False             False   \n",
      "3             False            False             False             False   \n",
      "4             False            False              True             False   \n",
      "\n",
      "   DOLocationID_114  DOLocationID_116  DOLocationID_117  DOLocationID_118  \\\n",
      "0             False             False             False             False   \n",
      "1             False             False             False             False   \n",
      "2             False             False             False             False   \n",
      "3             False             False             False             False   \n",
      "4             False             False             False             False   \n",
      "\n",
      "   DOLocationID_119  DOLocationID_12  DOLocationID_120  DOLocationID_121  \\\n",
      "0             False            False             False             False   \n",
      "1             False            False             False             False   \n",
      "2             False            False             False             False   \n",
      "3             False            False             False             False   \n",
      "4             False            False             False             False   \n",
      "\n",
      "   DOLocationID_123  DOLocationID_125  DOLocationID_126  DOLocationID_127  \\\n",
      "0             False             False             False             False   \n",
      "1             False             False             False             False   \n",
      "2             False             False             False             False   \n",
      "3             False             False             False             False   \n",
      "4             False             False             False             False   \n",
      "\n",
      "   DOLocationID_129  DOLocationID_13  DOLocationID_130  DOLocationID_131  \\\n",
      "0             False            False             False             False   \n",
      "1             False            False             False             False   \n",
      "2             False            False             False             False   \n",
      "3             False            False             False             False   \n",
      "4             False            False             False             False   \n",
      "\n",
      "   DOLocationID_132  DOLocationID_133  DOLocationID_134  DOLocationID_135  \\\n",
      "0             False             False             False             False   \n",
      "1             False             False             False             False   \n",
      "2             False             False             False             False   \n",
      "3             False             False             False             False   \n",
      "4             False             False             False             False   \n",
      "\n",
      "   DOLocationID_136  DOLocationID_137  DOLocationID_138  DOLocationID_14  \\\n",
      "0             False             False             False            False   \n",
      "1             False             False             False            False   \n",
      "2             False             False             False            False   \n",
      "3             False             False             False            False   \n",
      "4             False             False             False            False   \n",
      "\n",
      "   DOLocationID_140  DOLocationID_141  DOLocationID_142  DOLocationID_143  \\\n",
      "0             False             False             False             False   \n",
      "1             False             False             False             False   \n",
      "2             False             False             False             False   \n",
      "3             False             False             False             False   \n",
      "4             False             False             False             False   \n",
      "\n",
      "   DOLocationID_144  DOLocationID_145  DOLocationID_146  DOLocationID_147  \\\n",
      "0             False             False             False             False   \n",
      "1             False             False             False             False   \n",
      "2             False             False             False             False   \n",
      "3             False             False             False             False   \n",
      "4             False             False             False             False   \n",
      "\n",
      "   DOLocationID_148  DOLocationID_149  DOLocationID_15  DOLocationID_150  \\\n",
      "0             False             False            False             False   \n",
      "1             False             False            False             False   \n",
      "2             False             False            False             False   \n",
      "3             False             False            False             False   \n",
      "4             False             False            False             False   \n",
      "\n",
      "   DOLocationID_151  DOLocationID_152  DOLocationID_153  DOLocationID_157  \\\n",
      "0             False             False             False             False   \n",
      "1             False             False             False             False   \n",
      "2             False             False             False             False   \n",
      "3             False             False             False             False   \n",
      "4             False             False             False             False   \n",
      "\n",
      "   DOLocationID_158  DOLocationID_159  DOLocationID_16  DOLocationID_160  \\\n",
      "0             False             False            False             False   \n",
      "1             False             False            False             False   \n",
      "2             False             False            False             False   \n",
      "3             False             False            False             False   \n",
      "4             False             False            False             False   \n",
      "\n",
      "   DOLocationID_161  DOLocationID_162  DOLocationID_163  DOLocationID_164  \\\n",
      "0             False             False             False             False   \n",
      "1             False             False             False             False   \n",
      "2             False             False             False             False   \n",
      "3             False             False             False             False   \n",
      "4             False             False             False             False   \n",
      "\n",
      "   DOLocationID_166  DOLocationID_168  DOLocationID_169  DOLocationID_17  \\\n",
      "0             False             False             False            False   \n",
      "1             False             False             False            False   \n",
      "2             False             False             False            False   \n",
      "3             False             False             False            False   \n",
      "4             False             False             False            False   \n",
      "\n",
      "   DOLocationID_170  DOLocationID_171  DOLocationID_173  DOLocationID_174  \\\n",
      "0             False             False             False             False   \n",
      "1             False             False             False             False   \n",
      "2             False             False             False             False   \n",
      "3             False             False             False             False   \n",
      "4             False             False             False             False   \n",
      "\n",
      "   DOLocationID_175  DOLocationID_177  DOLocationID_178  DOLocationID_179  \\\n",
      "0             False             False             False             False   \n",
      "1             False             False             False             False   \n",
      "2             False             False             False             False   \n",
      "3             False             False             False             False   \n",
      "4             False             False             False             False   \n",
      "\n",
      "   DOLocationID_18  DOLocationID_180  DOLocationID_181  DOLocationID_182  \\\n",
      "0            False             False             False             False   \n",
      "1            False             False             False             False   \n",
      "2            False             False             False             False   \n",
      "3            False             False             False             False   \n",
      "4            False             False             False             False   \n",
      "\n",
      "   DOLocationID_184  DOLocationID_186  DOLocationID_188  DOLocationID_189  \\\n",
      "0             False             False             False             False   \n",
      "1             False             False             False             False   \n",
      "2             False             False             False             False   \n",
      "3             False             False             False             False   \n",
      "4             False             False             False             False   \n",
      "\n",
      "   DOLocationID_19  DOLocationID_190  DOLocationID_192  DOLocationID_193  \\\n",
      "0            False             False             False             False   \n",
      "1            False             False             False             False   \n",
      "2            False             False             False             False   \n",
      "3            False             False             False             False   \n",
      "4            False             False             False             False   \n",
      "\n",
      "   DOLocationID_194  DOLocationID_195  DOLocationID_196  DOLocationID_197  \\\n",
      "0             False             False             False             False   \n",
      "1             False             False             False             False   \n",
      "2             False             False             False             False   \n",
      "3             False             False             False             False   \n",
      "4             False             False             False             False   \n",
      "\n",
      "   DOLocationID_198  DOLocationID_200  DOLocationID_202  DOLocationID_205  \\\n",
      "0             False             False             False             False   \n",
      "1             False             False             False             False   \n",
      "2             False             False             False             False   \n",
      "3             False             False             False             False   \n",
      "4             False             False             False             False   \n",
      "\n",
      "   DOLocationID_207  DOLocationID_208  DOLocationID_209  DOLocationID_21  \\\n",
      "0             False             False             False            False   \n",
      "1             False             False             False            False   \n",
      "2             False             False             False            False   \n",
      "3             False             False             False            False   \n",
      "4             False             False             False            False   \n",
      "\n",
      "   DOLocationID_210  DOLocationID_211  DOLocationID_212  DOLocationID_213  \\\n",
      "0             False             False             False             False   \n",
      "1             False             False             False             False   \n",
      "2             False             False             False             False   \n",
      "3             False             False             False             False   \n",
      "4             False             False             False             False   \n",
      "\n",
      "   DOLocationID_215  DOLocationID_216  DOLocationID_217  DOLocationID_218  \\\n",
      "0             False             False             False             False   \n",
      "1             False             False             False             False   \n",
      "2             False             False             False             False   \n",
      "3             False             False             False             False   \n",
      "4             False             False             False             False   \n",
      "\n",
      "   DOLocationID_219  DOLocationID_22  DOLocationID_220  DOLocationID_223  \\\n",
      "0             False            False             False             False   \n",
      "1             False            False             False             False   \n",
      "2             False            False             False             False   \n",
      "3             False            False             False             False   \n",
      "4             False            False             False             False   \n",
      "\n",
      "   DOLocationID_224  DOLocationID_225  DOLocationID_226  DOLocationID_227  \\\n",
      "0             False             False             False             False   \n",
      "1             False             False             False             False   \n",
      "2             False             False             False             False   \n",
      "3             False             False             False             False   \n",
      "4             False             False             False             False   \n",
      "\n",
      "   DOLocationID_228  DOLocationID_229  DOLocationID_23  DOLocationID_230  \\\n",
      "0             False             False            False             False   \n",
      "1             False             False            False             False   \n",
      "2             False             False            False             False   \n",
      "3             False             False            False             False   \n",
      "4             False             False            False             False   \n",
      "\n",
      "   DOLocationID_231  DOLocationID_232  DOLocationID_233  DOLocationID_234  \\\n",
      "0              True             False             False             False   \n",
      "1             False             False             False             False   \n",
      "2             False             False             False             False   \n",
      "3             False             False             False             False   \n",
      "4             False             False             False             False   \n",
      "\n",
      "   DOLocationID_235  DOLocationID_236  DOLocationID_237  DOLocationID_238  \\\n",
      "0             False             False             False             False   \n",
      "1             False             False             False             False   \n",
      "2             False              True             False             False   \n",
      "3             False             False             False             False   \n",
      "4             False             False             False             False   \n",
      "\n",
      "   DOLocationID_239  DOLocationID_24  DOLocationID_240  DOLocationID_241  \\\n",
      "0             False            False             False             False   \n",
      "1             False            False             False             False   \n",
      "2             False            False             False             False   \n",
      "3             False            False             False             False   \n",
      "4             False            False             False             False   \n",
      "\n",
      "   DOLocationID_242  DOLocationID_243  DOLocationID_244  DOLocationID_246  \\\n",
      "0             False             False             False             False   \n",
      "1             False             False             False             False   \n",
      "2             False             False             False             False   \n",
      "3             False             False             False             False   \n",
      "4             False             False             False             False   \n",
      "\n",
      "   DOLocationID_247  DOLocationID_248  DOLocationID_249  DOLocationID_25  \\\n",
      "0             False             False             False            False   \n",
      "1             False             False             False            False   \n",
      "2             False             False             False            False   \n",
      "3             False             False             False            False   \n",
      "4             False             False             False            False   \n",
      "\n",
      "   DOLocationID_252  DOLocationID_255  DOLocationID_256  DOLocationID_257  \\\n",
      "0             False             False             False             False   \n",
      "1             False             False             False             False   \n",
      "2             False             False             False             False   \n",
      "3             False             False             False             False   \n",
      "4             False             False             False             False   \n",
      "\n",
      "   DOLocationID_258  DOLocationID_259  DOLocationID_26  DOLocationID_260  \\\n",
      "0             False             False            False             False   \n",
      "1             False             False            False             False   \n",
      "2             False             False            False             False   \n",
      "3             False             False            False             False   \n",
      "4             False             False            False             False   \n",
      "\n",
      "   DOLocationID_261  DOLocationID_262  DOLocationID_263  DOLocationID_264  \\\n",
      "0             False             False             False             False   \n",
      "1             False             False             False             False   \n",
      "2             False             False             False             False   \n",
      "3             False             False             False             False   \n",
      "4             False             False             False             False   \n",
      "\n",
      "   DOLocationID_265  DOLocationID_28  DOLocationID_29  DOLocationID_31  \\\n",
      "0             False            False            False            False   \n",
      "1             False            False            False            False   \n",
      "2             False            False            False            False   \n",
      "3             False            False            False            False   \n",
      "4             False            False            False            False   \n",
      "\n",
      "   DOLocationID_32  DOLocationID_33  DOLocationID_35  DOLocationID_36  \\\n",
      "0            False            False            False            False   \n",
      "1            False            False            False            False   \n",
      "2            False            False            False            False   \n",
      "3            False            False            False            False   \n",
      "4            False            False            False            False   \n",
      "\n",
      "   DOLocationID_37  DOLocationID_38  DOLocationID_39  DOLocationID_4  \\\n",
      "0            False            False            False           False   \n",
      "1            False            False            False           False   \n",
      "2            False            False            False           False   \n",
      "3            False            False            False           False   \n",
      "4            False            False            False           False   \n",
      "\n",
      "   DOLocationID_40  DOLocationID_41  DOLocationID_42  DOLocationID_43  \\\n",
      "0            False            False            False            False   \n",
      "1            False            False            False             True   \n",
      "2            False            False            False            False   \n",
      "3            False            False            False            False   \n",
      "4            False            False            False            False   \n",
      "\n",
      "   DOLocationID_45  DOLocationID_47  DOLocationID_48  DOLocationID_49  \\\n",
      "0            False            False            False            False   \n",
      "1            False            False            False            False   \n",
      "2            False            False            False            False   \n",
      "3            False            False            False            False   \n",
      "4            False            False            False            False   \n",
      "\n",
      "   DOLocationID_50  DOLocationID_51  DOLocationID_52  DOLocationID_53  \\\n",
      "0            False            False            False            False   \n",
      "1            False            False            False            False   \n",
      "2            False            False            False            False   \n",
      "3            False            False            False            False   \n",
      "4            False            False            False            False   \n",
      "\n",
      "   DOLocationID_54  DOLocationID_55  DOLocationID_56  DOLocationID_60  \\\n",
      "0            False            False            False            False   \n",
      "1            False            False            False            False   \n",
      "2            False            False            False            False   \n",
      "3            False            False            False            False   \n",
      "4            False            False            False            False   \n",
      "\n",
      "   DOLocationID_61  DOLocationID_62  DOLocationID_63  DOLocationID_64  \\\n",
      "0            False            False            False            False   \n",
      "1            False            False            False            False   \n",
      "2            False            False            False            False   \n",
      "3            False            False            False            False   \n",
      "4            False            False            False            False   \n",
      "\n",
      "   DOLocationID_65  DOLocationID_66  DOLocationID_67  DOLocationID_68  \\\n",
      "0            False            False            False            False   \n",
      "1            False            False            False            False   \n",
      "2            False            False            False            False   \n",
      "3            False            False            False            False   \n",
      "4            False            False            False            False   \n",
      "\n",
      "   DOLocationID_69  DOLocationID_7  DOLocationID_70  DOLocationID_71  \\\n",
      "0            False           False            False            False   \n",
      "1            False           False            False            False   \n",
      "2            False           False            False            False   \n",
      "3            False           False            False            False   \n",
      "4            False           False            False            False   \n",
      "\n",
      "   DOLocationID_72  DOLocationID_74  DOLocationID_75  DOLocationID_76  \\\n",
      "0            False            False            False            False   \n",
      "1            False            False            False            False   \n",
      "2            False            False            False            False   \n",
      "3            False            False            False            False   \n",
      "4            False            False            False            False   \n",
      "\n",
      "   DOLocationID_77  DOLocationID_78  DOLocationID_79  DOLocationID_80  \\\n",
      "0            False            False            False            False   \n",
      "1            False            False            False            False   \n",
      "2            False            False            False            False   \n",
      "3            False            False            False            False   \n",
      "4            False            False            False            False   \n",
      "\n",
      "   DOLocationID_81  DOLocationID_82  DOLocationID_83  DOLocationID_85  \\\n",
      "0            False            False            False            False   \n",
      "1            False            False            False            False   \n",
      "2            False            False            False            False   \n",
      "3            False            False            False            False   \n",
      "4            False            False            False            False   \n",
      "\n",
      "   DOLocationID_86  DOLocationID_87  DOLocationID_88  DOLocationID_89  \\\n",
      "0            False            False            False            False   \n",
      "1            False            False            False            False   \n",
      "2            False            False            False            False   \n",
      "3            False            False            False            False   \n",
      "4            False            False            False            False   \n",
      "\n",
      "   DOLocationID_9  DOLocationID_90  DOLocationID_91  DOLocationID_92  \\\n",
      "0           False            False            False            False   \n",
      "1           False            False            False            False   \n",
      "2           False            False            False            False   \n",
      "3           False            False            False            False   \n",
      "4           False            False            False            False   \n",
      "\n",
      "   DOLocationID_93  DOLocationID_94  DOLocationID_95  DOLocationID_97  \\\n",
      "0            False            False            False            False   \n",
      "1            False            False            False            False   \n",
      "2            False            False            False            False   \n",
      "3            False            False            False             True   \n",
      "4            False            False            False            False   \n",
      "\n",
      "   DOLocationID_98  day_friday  day_monday  day_saturday  day_sunday  \\\n",
      "0            False       False       False          True       False   \n",
      "1            False       False       False         False       False   \n",
      "2            False        True       False         False       False   \n",
      "3            False       False       False         False        True   \n",
      "4            False       False       False          True       False   \n",
      "\n",
      "   day_thursday  day_tuesday  day_wednesday  month_Apr  month_Aug  month_Dec  \\\n",
      "0         False        False          False      False      False      False   \n",
      "1         False         True          False       True      False      False   \n",
      "2         False        False          False      False      False       True   \n",
      "3         False        False          False      False      False      False   \n",
      "4         False        False          False      False      False      False   \n",
      "\n",
      "   month_Feb  month_Jan  month_Jul  month_Jun  month_Mar  month_May  \\\n",
      "0      False      False      False      False       True      False   \n",
      "1      False      False      False      False      False      False   \n",
      "2      False      False      False      False      False      False   \n",
      "3      False      False      False      False      False       True   \n",
      "4      False      False      False      False       True      False   \n",
      "\n",
      "   month_Nov  month_Oct  month_Sep  \n",
      "0      False      False      False  \n",
      "1      False      False      False  \n",
      "2      False      False      False  \n",
      "3      False      False      False  \n",
      "4      False      False      False  \n"
     ]
    }
   ],
   "source": [
    "# Convert categoricals to binary\n",
    "df2 = pd.get_dummies(df1)\n",
    "print(df2.head())"
   ]
  },
  {
   "cell_type": "markdown",
   "metadata": {
    "id": "nZfNE37b-LlJ"
   },
   "source": [
    "##### Evaluation metric"
   ]
  },
  {
   "cell_type": "code",
   "execution_count": 28,
   "metadata": {
    "id": "4mRefXCF-K_c",
    "scrolled": true
   },
   "outputs": [
    {
     "name": "stdout",
     "output_type": "stream",
     "text": [
      "generous\n",
      "1    9284\n",
      "0    5981\n",
      "Name: count, dtype: int64\n"
     ]
    }
   ],
   "source": [
    "# Get class balance of 'generous' col\n",
    "print(df2['generous'].value_counts())"
   ]
  },
  {
   "cell_type": "markdown",
   "metadata": {
    "id": "TjgkLrOf_OrE"
   },
   "source": [
    "A little over half of the customers in this dataset were \"generous\" (tipped ≥ 20%). The dataset is very nearly balanced.\n",
    "\n",
    "**False positives and False negatives** are equally costly as:\n",
    "\n",
    "    -False positives are worse for cab drivers, because they would pick up a customer expecting a good tip and then not receive one, frustrating the driver.\n",
    "\n",
    "    -False negatives are worse for customers, because a cab driver would likely pick up a different customer who was predicted to tip more&mdash;even when the original customer would have tipped generously.\n",
    "\n",
    "**Therefore, F1 score is chosen; the metric will weigh both precision and recall equally**"
   ]
  },
  {
   "cell_type": "code",
   "execution_count": 29,
   "metadata": {
    "id": "qLbapbSWDUL-"
   },
   "outputs": [],
   "source": [
    "x = df2.drop('generous', axis = 'columns')\n",
    "y = df2['generous']\n",
    "from sklearn.model_selection import train_test_split\n",
    "x_train, x_test, y_train, y_test = train_test_split(x, y, test_size = 0.2, random_state = 42)"
   ]
  },
  {
   "cell_type": "code",
   "execution_count": null,
   "metadata": {},
   "outputs": [],
   "source": [
    "#####Tree Forest"
   ]
  },
  {
   "cell_type": "code",
   "execution_count": 30,
   "metadata": {},
   "outputs": [],
   "source": [
    "# 1. Instantiate the random forest classifier\n",
    "from sklearn.ensemble import RandomForestClassifier\n",
    "rf = RandomForestClassifier(random_state = 42)\n",
    "# 2. Create a dictionary of hyperparameters to tune \n",
    "cv_params = {\n",
    "    'max_depth': [None, 10, 20],\n",
    "    'max_features': ['sqrt', 'log2'],\n",
    "    'max_samples': [None],\n",
    "    'min_samples_leaf': [1],\n",
    "    'min_samples_split': [2, 5],\n",
    "    'n_estimators': [100, 200]\n",
    "}\n",
    "# 3. Define a list of scoring metrics to capture\n",
    "from sklearn.metrics import make_scorer, accuracy_score, precision_score, recall_score, f1_score\n",
    "scoring = {\n",
    "    'accuracy': make_scorer(accuracy_score),\n",
    "    'precision': make_scorer(precision_score),\n",
    "    'recall': make_scorer(recall_score),\n",
    "    'f1': make_scorer(f1_score)\n",
    "}\n",
    "# 4. Instantiate the GridSearchCV object\n",
    "from sklearn.model_selection import GridSearchCV\n",
    "rf1 = GridSearchCV(\n",
    "    estimator = rf,\n",
    "    param_grid = cv_params,\n",
    "    scoring = scoring,\n",
    "    cv = 5,\n",
    "    refit = 'f1'\n",
    ")\n"
   ]
  },
  {
   "cell_type": "code",
   "execution_count": 31,
   "metadata": {
    "id": "OXuBiTGi5ZHn"
   },
   "outputs": [],
   "source": [
    "# rf1.fit(x_train, y_train)"
   ]
  },
  {
   "cell_type": "code",
   "execution_count": 32,
   "metadata": {
    "id": "YtAgrH0zy4CE"
   },
   "outputs": [],
   "source": [
    "import pickle\n",
    "path = '/home/jovyan/work/model.pickle'\n",
    "with open(path, 'wb') as f:\n",
    "    pickle.dump(rf1, f)"
   ]
  },
  {
   "cell_type": "code",
   "execution_count": 33,
   "metadata": {},
   "outputs": [],
   "source": [
    "def write_pickle(path, model_object, save_name:str):\n",
    "    with open(path + save_name + '.pickle', 'wb') as to_write:\n",
    "        pickle.dump(model_object, to_write)"
   ]
  },
  {
   "cell_type": "code",
   "execution_count": 34,
   "metadata": {},
   "outputs": [],
   "source": [
    "def read_pickle(path, saved_model_name:str):\n",
    "    with open(path + saved_model_name + '.pickle', 'rb') as to_read:\n",
    "        model = pickle.load(to_read)\n",
    "\n",
    "        return model"
   ]
  },
  {
   "cell_type": "code",
   "execution_count": 35,
   "metadata": {
    "id": "29kGUegqhviL"
   },
   "outputs": [
    {
     "name": "stdout",
     "output_type": "stream",
     "text": [
      "0.7578903743779539\n"
     ]
    }
   ],
   "source": [
    "with open('/home/jovyan/work/model.pkl', 'rb') as to_read:\n",
    "    rf1 = pickle.load(to_read)\n",
    "print(rf1.best_score_)"
   ]
  },
  {
   "cell_type": "code",
   "execution_count": 36,
   "metadata": {
    "id": "FjgXbO7Kh8is"
   },
   "outputs": [
    {
     "name": "stdout",
     "output_type": "stream",
     "text": [
      "{'max_depth': 20, 'max_features': 'log2', 'max_samples': None, 'min_samples_leaf': 1, 'min_samples_split': 2, 'n_estimators': 100}\n"
     ]
    }
   ],
   "source": [
    "print(rf1.best_params_)"
   ]
  },
  {
   "cell_type": "code",
   "execution_count": 37,
   "metadata": {
    "id": "u-UodWEOedxz"
   },
   "outputs": [],
   "source": [
    "def make_results(model_name:str, model_object, metric:str):\n",
    "    metric_dict = {'precision': 'mean_test_precision',\n",
    "                 'recall': 'mean_test_recall',\n",
    "                 'f1': 'mean_test_f1',\n",
    "                 'accuracy': 'mean_test_accuracy',\n",
    "                 }\n",
    "\n",
    "    cv_results = pd.DataFrame(model_object.cv_results_)\n",
    "    best_estimator_results = cv_results.iloc[cv_results[metric_dict[metric]].idxmax(), :]\n",
    "    f1 = best_estimator_results.mean_test_f1\n",
    "    recall = best_estimator_results.mean_test_recall\n",
    "    precision = best_estimator_results.mean_test_precision\n",
    "    accuracy = best_estimator_results.mean_test_accuracy\n",
    "    table = pd.DataFrame({'model': [model_name],\n",
    "                        'precision': [precision],\n",
    "                        'recall': [recall],\n",
    "                        'F1': [f1],\n",
    "                        'accuracy': [accuracy],\n",
    "                        },\n",
    "                       )\n",
    "\n",
    "    return table"
   ]
  },
  {
   "cell_type": "code",
   "execution_count": 38,
   "metadata": {
    "id": "qAYb2QigiT_h"
   },
   "outputs": [
    {
     "name": "stdout",
     "output_type": "stream",
     "text": [
      "     model  precision   recall       F1  accuracy\n",
      "0  Model_1   0.610514  0.99906  0.75789  0.610547\n"
     ]
    }
   ],
   "source": [
    "#==> ENTER YOUR CODE HERE\n",
    "print(make_results('Model_1', rf1, 'f1'))"
   ]
  },
  {
   "cell_type": "code",
   "execution_count": 39,
   "metadata": {},
   "outputs": [
    {
     "name": "stdout",
     "output_type": "stream",
     "text": [
      "[1 1 1 ... 1 1 1]\n"
     ]
    }
   ],
   "source": [
    "rf_preds = rf1.best_estimator_.predict(x_test)\n",
    "print(rf_preds)"
   ]
  },
  {
   "cell_type": "code",
   "execution_count": 40,
   "metadata": {},
   "outputs": [],
   "source": [
    "def get_test_scores(model_name:str, preds, y_test_data):\n",
    "    accuracy = accuracy_score(y_test_data, preds)\n",
    "    precision = precision_score(y_test_data, preds)\n",
    "    recall = recall_score(y_test_data, preds)\n",
    "    f1 = f1_score(y_test_data, preds)\n",
    "\n",
    "    table = pd.DataFrame({'model': [model_name],\n",
    "                        'precision': [precision],\n",
    "                        'recall': [recall],\n",
    "                        'F1': [f1],\n",
    "                        'accuracy': [accuracy]\n",
    "                        })\n",
    "\n",
    "    return table"
   ]
  },
  {
   "cell_type": "code",
   "execution_count": 41,
   "metadata": {
    "id": "Iil1LjabiT5x"
   },
   "outputs": [
    {
     "name": "stdout",
     "output_type": "stream",
     "text": [
      "     model  precision    recall        F1  accuracy\n",
      "0  Model_1        0.6  0.998363  0.749539   0.59941\n"
     ]
    }
   ],
   "source": [
    "rf_test_scores = get_test_scores('Model_1', rf_preds, y_test)\n",
    "print(rf_test_scores)"
   ]
  },
  {
   "cell_type": "code",
   "execution_count": 47,
   "metadata": {},
   "outputs": [],
   "source": [
    "# 1. Instantiate the XGBoost classifier\n",
    "import xgboost as xgb \n",
    "xgb = xgb.XGBClassifier(objective='binary:logistic', random_state =42)\n",
    "# 2. Create a dictionary of hyperparameters to tune\n",
    "cv_params = {\n",
    "    'max_depth': [None, 10, 20],\n",
    "    'min_child_weight': [1, 2],\n",
    "    'learning_rate': [0.1, 0.2, 0.3],\n",
    "    'n_estimators': [100, 200]\n",
    "}\n",
    "\n",
    "# 3. Define a list of scoring metrics to capture\n",
    "from sklearn.metrics import make_scorer, accuracy_score, precision_score, recall_score, f1_score\n",
    "\n",
    "scoring = {\n",
    "    'accuracy': make_scorer(accuracy_score),\n",
    "    'precision': make_scorer(precision_score),\n",
    "    'recall': make_scorer(recall_score),\n",
    "    'f1': make_scorer(f1_score)\n",
    "}\n",
    "# 4. Instantiate the GridSearchCV object\n",
    "from sklearn.model_selection import GridSearchCV\n",
    "xgb1 = GridSearchCV(\n",
    "    estimator = xgb,\n",
    "    param_grid = cv_params,\n",
    "    scoring = scoring,\n",
    "    cv = 4,\n",
    "    refit = 'f1'\n",
    ")\n"
   ]
  },
  {
   "cell_type": "code",
   "execution_count": 48,
   "metadata": {},
   "outputs": [
    {
     "name": "stdout",
     "output_type": "stream",
     "text": [
      "CPU times: user 4min 8s, sys: 3.14 s, total: 4min 12s\n",
      "Wall time: 2min 21s\n"
     ]
    }
   ],
   "source": [
    "xgb1.fit(x_train, y_train)\n",
    "import pickle\n",
    "path = '/home/jovyan/work/model_xgb.pickle'\n",
    "with open(path, 'wb') as f:\n",
    "    pickle.dump(xgb1, f)"
   ]
  },
  {
   "cell_type": "code",
   "execution_count": 49,
   "metadata": {},
   "outputs": [
    {
     "name": "stdout",
     "output_type": "stream",
     "text": [
      "0.7496216824279349\n"
     ]
    }
   ],
   "source": [
    "with open('/home/jovyan/work/model_xgb.pickle', 'rb') as to_read:\n",
    "    xgb1 = pickle.load(to_read)\n",
    "print(xgb1.best_score_)"
   ]
  },
  {
   "cell_type": "code",
   "execution_count": 50,
   "metadata": {
    "id": "JiLja3YViTzj"
   },
   "outputs": [
    {
     "name": "stdout",
     "output_type": "stream",
     "text": [
      "{'learning_rate': 0.1, 'max_depth': None, 'min_child_weight': 1, 'n_estimators': 100}\n"
     ]
    }
   ],
   "source": [
    "print(xgb1.best_params_)"
   ]
  },
  {
   "cell_type": "markdown",
   "metadata": {
    "id": "eTE2QdNP0eEP"
   },
   "source": [
    "##### XGB"
   ]
  },
  {
   "cell_type": "code",
   "execution_count": 51,
   "metadata": {
    "id": "L4TSYXJWiTxs",
    "scrolled": false
   },
   "outputs": [
    {
     "name": "stdout",
     "output_type": "stream",
     "text": [
      "       model  precision    recall        F1  accuracy\n",
      "0  Model_xgb   0.612206  0.966581  0.749622  0.606043\n"
     ]
    }
   ],
   "source": [
    "print(make_results('Model_xgb', xgb1, 'f1'))"
   ]
  },
  {
   "cell_type": "code",
   "execution_count": 52,
   "metadata": {
    "id": "5Y2giCN32Dwc"
   },
   "outputs": [
    {
     "name": "stdout",
     "output_type": "stream",
     "text": [
      "[1 1 1 ... 1 1 1]\n"
     ]
    }
   ],
   "source": [
    "xgb_preds = xgb1.best_estimator_.predict(x_test)\n",
    "print(xgb_preds)"
   ]
  },
  {
   "cell_type": "code",
   "execution_count": 53,
   "metadata": {
    "id": "g7jShC2TiTvx"
   },
   "outputs": [
    {
     "name": "stdout",
     "output_type": "stream",
     "text": [
      "       model  precision    recall        F1  accuracy\n",
      "0  Model_XGB   0.597161  0.963993  0.737479  0.587946\n"
     ]
    }
   ],
   "source": [
    "xgb_test_scores = get_test_scores('Model_XGB', xgb_preds, y_test)\n",
    "print(xgb_test_scores)"
   ]
  },
  {
   "cell_type": "code",
   "execution_count": null,
   "metadata": {},
   "outputs": [],
   "source": [
    "##### Visualization"
   ]
  },
  {
   "cell_type": "code",
   "execution_count": 61,
   "metadata": {
    "id": "5iUyZWjWvqOd"
   },
   "outputs": [
    {
     "data": {
      "image/png": "[encoded data removed]",
      "text/plain": [
       "<Figure size 640x480 with 2 Axes>"
      ]
     },
     "metadata": {},
     "output_type": "display_data"
    }
   ],
   "source": [
    "from sklearn.metrics import confusion_matrix, ConfusionMatrixDisplay\n",
    "cm = confusion_matrix(y_test, xgb_preds)\n",
    "import matplotlib.pyplot as plt\n",
    "cm_display = ConfusionMatrixDisplay(confusion_matrix = cm)\n",
    "cm_display.plot() \n",
    "plt.title(\"Confusion Matrix\")\n",
    "plt.show()"
   ]
  },
  {
   "cell_type": "code",
   "execution_count": 70,
   "metadata": {
    "id": "kz5T1gHc1R2x",
    "scrolled": true
   },
   "outputs": [
    {
     "data": {
      "image/png": "[encoded data removed]",
      "text/plain": [
       "<Figure size 640x480 with 1 Axes>"
      ]
     },
     "metadata": {},
     "output_type": "display_data"
    }
   ],
   "source": [
    "xgb1_importance = xgb1.best_estimator_.feature_importances_\n",
    "import numpy as np\n",
    "indices = np.argsort(xgb1_importance)[::-1]\n",
    "plt.title('Top 10 important features')\n",
    "plt.bar(range(10), xgb1_importance[indices[:10]], align = 'center')\n",
    "plt.xticks(range(10), [x_train.columns[i] for i in indices[:10]], rotation = 45)\n",
    "plt.show()"
   ]
  },
  {
   "cell_type": "markdown",
   "metadata": {
    "id": "ill21hQ4ej9-"
   },
   "source": [
    "### **Conclusion**\n",
    "\n",
    "1. **Are there new features that you can engineer that might improve model performance?**   \n",
    "\n",
    "    -  New features can be engineered: trip distance (such as: short/ medium/ far). We could also engineer a column that gives a ratio that represents (the amount of money from the fare amount to the nearest higher multiple of \\\\$5) / fare amount. For example, if the fare were \\\\$12, the value in this column would be 0.25, because \\\\$12 to the nearest higher multiple of \\\\$5 (\\\\$15) is \\\\$3, and \\\\$3 divided by \\\\$12 is 0.25. The intuition for this feature is that people might be likely to simply round up their tip, so journeys with fares with values just under a multiple of \\\\$5 may have lower tip percentages than those with fare values just over a multiple of \\\\$5. We could also do the same thing for fares to the nearest \\\\$10.\n",
    "    \n",
    "2. **What features would you want to have that would likely improve the performance of your model?**   \n",
    "\n",
    "It would probably be very helpful to have past tipping behavior for each customer. It would also be valuable to have accurate tip values for customers who pay with cash.\n",
    "It would be helpful to have a lot more data. With enough data, we could create a unique feature for each pickup/dropoff combination."
   ]
  }
 ],
 "metadata": {
  "colab": {
   "collapsed_sections": [],
   "provenance": [
    {
     "file_id": "1oNheYh5WbljxkvoK_BMkQTey2DWnFXMs",
     "timestamp": 1663785370813
    }
   ]
  },
  "kernelspec": {
   "display_name": "Python 3 (ipykernel)",
   "language": "python",
   "name": "python3"
  },
  "language_info": {
   "codemirror_mode": {
    "name": "ipython",
    "version": 3
   },
   "file_extension": ".py",
   "mimetype": "text/x-python",
   "name": "python",
   "nbconvert_exporter": "python",
   "pygments_lexer": "ipython3",
   "version": "3.10.6"
  }
 },
 "nbformat": 4,
 "nbformat_minor": 1
}
